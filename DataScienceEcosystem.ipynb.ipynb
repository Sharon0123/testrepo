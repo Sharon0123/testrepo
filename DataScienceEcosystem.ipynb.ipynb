{
 "cells": [
  {
   "cell_type": "markdown",
   "id": "0c68d615-1c88-4de4-9de3-de71301055e3",
   "metadata": {},
   "source": [
    "<center>\n",
    "    <img src=\"https://cf-courses-data.s3.us.cloud-object-storage.appdomain.cloud/IBMDeveloperSkillsNetwork-DS0105EN-SkillsNetwork/labs/Module2/images/SN_web_lightmode.png\" width=\"300\" alt=\"cognitiveclass.ai logo\">\n",
    "</center>"
   ]
  },
  {
   "cell_type": "markdown",
   "id": "fa7f7626-5fb7-4c06-8b45-0baed0918214",
   "metadata": {},
   "source": [
    "#### Add your code below following the instructions given in the course"
   ]
  },
  {
   "cell_type": "markdown",
   "id": "2fae53c6-73d0-4b8a-9490-66249acb5b22",
   "metadata": {},
   "source": [
    "# Data Science Tools and Ecosystem"
   ]
  },
  {
   "cell_type": "markdown",
   "id": "dc972f93-4e25-43c2-b2c5-eeedeb852a9e",
   "metadata": {},
   "source": [
    "## In this notebook, Data Science Tools and Ecosystem are summarized."
   ]
  },
  {
   "cell_type": "markdown",
   "id": "b5170257-72ea-421e-9ee2-590de779503b",
   "metadata": {},
   "source": [
    "**Objectives:**\n",
    "* List of some Popular languages for Data Science\n",
    "* List of some commonly used libraries used by Data Scientists\n",
    "* Table of Data Science Tools\n",
    "* Examples of Evaluating arithmetic expressions to Multiply & Add integers in Python\n",
    "* Converting Minutes to Hours"
   ]
  },
  {
   "cell_type": "markdown",
   "id": "864caede-8c47-48b6-82f4-f41330014313",
   "metadata": {},
   "source": [
    "**Some of the popular languages that Data Scientists use are:**\n",
    "1. Python\n",
    "2. R\n",
    "3. SQL\n",
    "4. Scala\n",
    "5. Java\n",
    "6. C++\n",
    "7. Julia\n",
    "8. Javascript\n",
    "9. PHP\n",
    "10. Go\n",
    "11. Ruby\n",
    "12. Visual Basic"
   ]
  },
  {
   "cell_type": "markdown",
   "id": "72d9aa0f-a40f-44ed-88d1-1bab133b034f",
   "metadata": {},
   "source": [
    "**Some of the commonly used libraries used by Data Scientists include:**\n",
    "1. Pandas\n",
    "2. Numpy\n",
    "3. Scipy\n",
    "4. Matplotlib"
   ]
  },
  {
   "cell_type": "markdown",
   "id": "8ef40905-4dac-4910-b1e0-2a63066968e6",
   "metadata": {},
   "source": [
    "|Data Science Tools|\n",
    "|:-:|\n",
    "|Jupyter Notebook|\n",
    "|RStudio|\n",
    "|GitHub|\n",
    "|MySQL|"
   ]
  },
  {
   "cell_type": "markdown",
   "id": "67f6e49e-12ca-447a-8d48-0bb72f78325a",
   "metadata": {},
   "source": [
    "### Below are a few examples of evaluating arithmetic expressions in Python"
   ]
  },
  {
   "cell_type": "code",
   "execution_count": 16,
   "id": "3c45320f-b05f-417f-b886-3e0e1f32e629",
   "metadata": {},
   "outputs": [
    {
     "data": {
      "text/plain": [
       "17"
      ]
     },
     "execution_count": 16,
     "metadata": {},
     "output_type": "execute_result"
    }
   ],
   "source": [
    "# These are a few simple arithmetic expression to mutiply then add integers\n",
    "\n",
    "(3*4)+5"
   ]
  },
  {
   "cell_type": "code",
   "execution_count": 17,
   "id": "eac5ffe3-b257-4970-8fee-f374db0e9265",
   "metadata": {},
   "outputs": [
    {
     "data": {
      "text/plain": [
       "100"
      ]
     },
     "execution_count": 17,
     "metadata": {},
     "output_type": "execute_result"
    }
   ],
   "source": [
    "(20+5)*4"
   ]
  },
  {
   "cell_type": "code",
   "execution_count": 18,
   "id": "215c30ef-bd64-4c76-9069-9cfdfe4f451e",
   "metadata": {},
   "outputs": [
    {
     "data": {
      "text/plain": [
       "100700000"
      ]
     },
     "execution_count": 18,
     "metadata": {},
     "output_type": "execute_result"
    }
   ],
   "source": [
    "(2456*308*19*7)+92416"
   ]
  },
  {
   "cell_type": "code",
   "execution_count": 19,
   "id": "9ff70cc7-a604-40f0-b898-6494629f47ce",
   "metadata": {},
   "outputs": [
    {
     "name": "stdout",
     "output_type": "stream",
     "text": [
      "3:20  Hours\n"
     ]
    }
   ],
   "source": [
    "# This will convert 200 minutes to hours by diving by 60\n",
    "\n",
    "minutes = 200\n",
    "hours, minutes = divmod(minutes, 60)\n",
    "print(\"%d:%02d\" % (hours, minutes), ' Hours')"
   ]
  },
  {
   "cell_type": "code",
   "execution_count": 20,
   "id": "1ea8831f-f53c-4ddc-93c5-0aef75169511",
   "metadata": {},
   "outputs": [
    {
     "name": "stdout",
     "output_type": "stream",
     "text": [
      "4:00  Hours\n"
     ]
    }
   ],
   "source": [
    "# This will convert 240 minutes to hours by diving by 60\n",
    "\n",
    "minutes = 240\n",
    "hours, minutes = divmod(minutes, 60)\n",
    "print(\"%d:%02d\" % (hours, minutes), ' Hours')"
   ]
  },
  {
   "cell_type": "markdown",
   "id": "9b487163-ac7f-4493-bcfc-67eed3781f2c",
   "metadata": {},
   "source": [
    "## Author\n",
    "Sharon Raja S"
   ]
  },
  {
   "cell_type": "markdown",
   "id": "06ed2e45-5ae7-46d0-8e7a-03e9f2491277",
   "metadata": {},
   "source": []
  }
 ],
 "metadata": {
  "kernelspec": {
   "display_name": "Python",
   "language": "python",
   "name": "conda-env-python-py"
  },
  "language_info": {
   "codemirror_mode": {
    "name": "ipython",
    "version": 3
   },
   "file_extension": ".py",
   "mimetype": "text/x-python",
   "name": "python",
   "nbconvert_exporter": "python",
   "pygments_lexer": "ipython3",
   "version": "3.7.12"
  },
  "toc-showcode": false
 },
 "nbformat": 4,
 "nbformat_minor": 5
}
